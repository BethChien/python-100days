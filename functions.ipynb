{
 "cells": [
  {
   "cell_type": "markdown",
   "id": "be626fc5",
   "metadata": {},
   "source": [
    "first class objects\n",
    "* A funtion that takes another function as an input is called a higher-order function.\n",
    "在這個語言中這個 functions 被當成像是其他的 object 或 variables，那他就被稱為 first class object\n",
    "- assigned to a variable\n",
    "- passed as an argument into another function.\n",
    "- returned by another function\n",
    "- put into list, tuple, or dictionary\n",
    "\n",
    "其他語言不適用"
   ]
  },
  {
   "cell_type": "code",
   "execution_count": 11,
   "id": "c74d7fea",
   "metadata": {},
   "outputs": [
    {
     "name": "stdout",
     "output_type": "stream",
     "text": [
      "Hello World\n"
     ]
    }
   ],
   "source": [
    "def hello():\n",
    "    print(\"Hello World\")\n",
    "\n",
    "greet = hello\n",
    "greet()"
   ]
  },
  {
   "cell_type": "code",
   "execution_count": 4,
   "id": "943830f9",
   "metadata": {},
   "outputs": [
    {
     "name": "stdout",
     "output_type": "stream",
     "text": [
      "Hello World\n",
      "1\n",
      "4\n",
      "9\n",
      "16\n"
     ]
    }
   ],
   "source": [
    "def hello():\n",
    "    print(\"Hello World\")\n",
    "\n",
    "def call_another_function(other_func):\n",
    "    other_func()\n",
    "\n",
    "call_another_function(hello)\n",
    "\n",
    "def square(num):\n",
    "    return num ** 2\n",
    "\n",
    "my_list = [1, 2, 3, 4]\n",
    "result = map(square, my_list)\n",
    "for i in result:\n",
    "    print(i)"
   ]
  },
  {
   "cell_type": "code",
   "execution_count": 6,
   "id": "38cf92a4",
   "metadata": {},
   "outputs": [
    {
     "name": "stdout",
     "output_type": "stream",
     "text": [
      "greet!\n",
      "hello, Sandy\n",
      "bye, Grace\n"
     ]
    }
   ],
   "source": [
    "def hello():\n",
    "    def greet():\n",
    "        print(\"greet!\")\n",
    "    return greet\n",
    "\n",
    "welcome = hello()\n",
    "welcome()\n",
    "\n",
    "def hello(name):\n",
    "    def greet(another_name):\n",
    "        print(\"hello, \" + another_name)\n",
    "    def bye(another_name):\n",
    "        print(\"bye, \" + another_name)\n",
    "    \n",
    "    if name == \"greet\":\n",
    "        return greet\n",
    "    else:\n",
    "        return bye\n",
    "\n",
    "welcome = hello(\"greet\")\n",
    "goodbye = hello(\"something else\")\n",
    "welcome(\"Sandy\")\n",
    "goodbye(\"Grace\")"
   ]
  },
  {
   "cell_type": "code",
   "execution_count": 10,
   "id": "8ce7a56c",
   "metadata": {},
   "outputs": [
    {
     "name": "stdout",
     "output_type": "stream",
     "text": [
      "helle 1\n",
      "hello 2\n"
     ]
    }
   ],
   "source": [
    "def hello():\n",
    "    print(\"helle 1\")\n",
    "\n",
    "def hello2():\n",
    "    print(\"hello 2\")\n",
    "    \n",
    "for func in [hello, hello2]:\n",
    "    func()"
   ]
  },
  {
   "cell_type": "markdown",
   "id": "87a3a9ef",
   "metadata": {},
   "source": [
    "Decorators 裝飾器"
   ]
  },
  {
   "cell_type": "code",
   "execution_count": 13,
   "id": "de3023f0",
   "metadata": {},
   "outputs": [
    {
     "name": "stdout",
     "output_type": "stream",
     "text": [
      "before the original function\n",
      "I am a function that needs decorator.\n",
      "after the original function\n",
      "before the original function\n",
      "I am a function that needs decorator.\n",
      "after the original function\n"
     ]
    }
   ],
   "source": [
    "def new_decorator(original_func):\n",
    "    def wrap_func():\n",
    "        print(\"before the original function\")\n",
    "        original_func()\n",
    "        print(\"after the original function\")\n",
    "    return wrap_func\n",
    "\n",
    "def func_needs_decorator():\n",
    "    print(\"I am a function that needs decorator.\")\n",
    "    \n",
    "decorated_function = new_decorator(func_needs_decorator)\n",
    "decorated_function()\n",
    "\n",
    "@new_decorator\n",
    "def func_needs_decorator():\n",
    "    print(\"I am a function that needs decorator.\")\n",
    "\n",
    "func_needs_decorator()\n",
    "    \n",
    "\n"
   ]
  },
  {
   "cell_type": "markdown",
   "id": "b8a6e309",
   "metadata": {},
   "source": [
    "Generator\n",
    "what is generator?\n",
    "允許你可以聲明函數，讓行為上像 iterator 一樣, i.e. it can be used in a for loop."
   ]
  },
  {
   "cell_type": "code",
   "execution_count": 14,
   "id": "96ac62a0",
   "metadata": {},
   "outputs": [
    {
     "name": "stdout",
     "output_type": "stream",
     "text": [
      "0\n",
      "1\n",
      "8\n",
      "27\n",
      "64\n",
      "125\n",
      "216\n",
      "343\n",
      "512\n",
      "729\n"
     ]
    }
   ],
   "source": [
    "def cube(n):\n",
    "    for x in range(n):\n",
    "        yield x ** 3\n",
    "\n",
    "for element in cube(10):\n",
    "    print(element)"
   ]
  },
  {
   "cell_type": "markdown",
   "id": "d769fcf3",
   "metadata": {},
   "source": [
    "iteration, iterablem and iterator\n",
    "- __iter__(), 一個一個拿出玩具\n",
    "- __getitem__(index), 可以再第幾個櫃子那出車子模型\n",
    "- __setitem__(index, value), 玩具櫃子有很多抽屜分別放入不同的玩具\n",
    "- __init__(), 初始化 放入妳所以有的玩具 \n",
    "- __str__()， 列出你全部的玩具\n"
   ]
  },
  {
   "cell_type": "markdown",
   "id": "4feeaf16",
   "metadata": {},
   "source": [
    "7 years old story time iterator\n",
    "\n",
    "想像你有一個 糖果盒子，裡面裝了很多不同的糖果 🍬。\n",
    "\n",
    "你有一個 糖果機器人，這個機器人一次只能拿出一顆糖果給你，然後說：「下一個！」你每叫一次，它就給你下一顆，直到糖果沒了，它才會說：「沒有了！」\n",
    "\n",
    "糖果盒子 → 一個可以被「一個一個拿出來」的東西，例如清單（list）或字串（string），就叫做 iterable（可被迭代的東西）\n",
    "\n",
    "糖果機器人 → 就是 iterator（迭代器），它知道：\n",
    "\n",
    "下一個糖果在哪裡\n",
    "\n",
    "什麼時候已經拿完了"
   ]
  },
  {
   "cell_type": "code",
   "execution_count": null,
   "id": "b131e894",
   "metadata": {},
   "outputs": [
    {
     "name": "stdout",
     "output_type": "stream",
     "text": [
      "red\n",
      "green\n",
      "blue\n",
      "red\n",
      "green\n",
      "blue\n"
     ]
    }
   ],
   "source": [
    "candies = [\"red\", \"green\", \"blue\"]   # 糖果盒子\n",
    "robot = iter(candies)                # 糖果機器人\n",
    "\n",
    "print(next(robot))  # 🍬 \"red\"\n",
    "print(next(robot))  # 🍬 \"green\"\n",
    "print(next(robot))  # 🍬 \"blue\"\n",
    "# print(next(robot))  # ❌ 糖果沒了，會出錯\n",
    "\n",
    "#another way \n",
    "for i in candies:\n",
    "    print(i)"
   ]
  },
  {
   "cell_type": "markdown",
   "id": "39c3d1ee",
   "metadata": {},
   "source": [
    "- yield 是什麼呢?\n",
    "\n",
    "想像你有一個會生糖果的盒子，叫做「糖果精靈盒」。\n",
    "\n",
    "這個盒子一次不會全部把糖果倒出來，\n",
    "而是你每次說：「我要一顆糖果！」，\n",
    "它就會說：「好，給你一顆 🍬」，然後 停一下，等你下一次再叫它。\n",
    "\n",
    "- yield 跟 return 有什麼不同呢?\n",
    "return 是什麼？\t一次性送出所有糖果 🍬🍬🍬， 結束後就關門 🔒\n",
    "yield 是什麼？ 一次只送出一顆糖果 🍬， 等你再叫它。可以繼續 🚪\n"
   ]
  },
  {
   "cell_type": "code",
   "execution_count": 15,
   "id": "8b6a4f07",
   "metadata": {},
   "outputs": [
    {
     "name": "stdout",
     "output_type": "stream",
     "text": [
      "<__main__.Something object at 0x00000297422C7320>\n",
      "1\n",
      "2\n",
      "3\n"
     ]
    }
   ],
   "source": [
    "# iterable => (1) __iter__() method returns on iterator\n",
    "# any generator is iterator\n",
    "\n",
    "class Something:\n",
    "    def __iter__(self):\n",
    "        yield s\n",
    "        for x in range(1, 4):\n",
    "            yield x\n",
    "\n",
    "s = Something()\n",
    "# s is an iterable\n",
    "# iter(iterable) returns an iterator\n",
    "\n",
    "for i in s:\n",
    "    print(i)"
   ]
  },
  {
   "cell_type": "markdown",
   "id": "9891dc7a",
   "metadata": {},
   "source": [
    "7 years old story time\n",
    "🧸 故事時間：玩具櫃子和抽屜\n",
    "你家裡有一個 玩具櫃子 🧰，裡面有很多小抽屜，每個抽屜都有一個號碼（像 0、1、2...），你可以：\n",
    "\n",
    "打開第 N 號抽屜拿玩具（就是 __getitem__()）\n",
    "\n",
    "把玩具放到第 N 號抽屜（就是 __setitem__()）\n",
    "\n",
    "__getitem__(index) 是你說：「我要看第幾號抽屜的東西」\n",
    "\n",
    "__setitem__(index, value) 是你說：「我要把這個東西放進第幾號抽屜」"
   ]
  },
  {
   "cell_type": "code",
   "execution_count": null,
   "id": "516d00c1",
   "metadata": {},
   "outputs": [
    {
     "name": "stdout",
     "output_type": "stream",
     "text": [
      "熊熊\n",
      "玩具櫃子內容:['熊熊', '機器人', '積木']\n"
     ]
    }
   ],
   "source": [
    "class ToyCabinet:\n",
    "    def __init__(self):\n",
    "        self.drawers = [\"熊熊\", \"車車\", \"積木\"]  # 玩具們\n",
    "        \n",
    "    def __getitem__(self, index):\n",
    "        return self.drawers[index]  # 打開抽屜看玩具\n",
    "\n",
    "    def __setitem__(self, index, value):\n",
    "        self.drawers[index] = value  # 把玩具放進去\n",
    "    \n",
    "    def __str__(self):\n",
    "        return f\"玩具櫃子內容:{self.drawers}\"\n",
    "\n",
    "# 讓我們用這個玩具櫃\n",
    "cabinet = ToyCabinet()\n",
    "\n",
    "print(cabinet[0])  # 👉 像這樣說：「我要看第0號抽屜」→ 熊熊\n",
    "cabinet[1] = \"機器人\"  # 👉 「我要把機器人放到第1號抽屜」\n",
    "print(cabinet)\n",
    "        "
   ]
  },
  {
   "cell_type": "code",
   "execution_count": 29,
   "id": "bb70bd0c",
   "metadata": {},
   "outputs": [
    {
     "name": "stdout",
     "output_type": "stream",
     "text": [
      "0\n",
      "1\n",
      "2\n",
      "3\n",
      "4\n"
     ]
    }
   ],
   "source": [
    "class MyIterator:\n",
    "    def __init__(self, max_num):\n",
    "        self.max_num = max_num\n",
    "        self.index = 0\n",
    "    \n",
    "    def __iter__(self):\n",
    "        return self\n",
    "    \n",
    "    def __next__(self):\n",
    "        if self.index < self.max_num:\n",
    "            value = self.index\n",
    "            self.index += 1\n",
    "            return value\n",
    "        else:\n",
    "            self.index = 0\n",
    "            raise StopIteration\n",
    "\n",
    "my_iterator = MyIterator(5)\n",
    "\n",
    "for item in my_iterator:\n",
    "    print(item)"
   ]
  },
  {
   "cell_type": "markdown",
   "id": "e1853556",
   "metadata": {},
   "source": [
    "Stdin, Stdout, Pipe\n",
    "\n",
    "- 🗣️ stdin（標準輸入）\n",
    "- 📢 stdout（標準輸出）\n",
    "- 📬 pipe（管道）\n",
    "\n",
    ">, <, and >> are used to redirect the standard input, and output.\n",
    "- > means to overwirte\n",
    "- >> means to append\n",
    "- < means to read\n",
    "\n",
    "we can use the pipe functionality to transfer an output of a program to be an input of naother program\n"
   ]
  }
 ],
 "metadata": {
  "kernelspec": {
   "display_name": "python312",
   "language": "python",
   "name": "python3"
  },
  "language_info": {
   "codemirror_mode": {
    "name": "ipython",
    "version": 3
   },
   "file_extension": ".py",
   "mimetype": "text/x-python",
   "name": "python",
   "nbconvert_exporter": "python",
   "pygments_lexer": "ipython3",
   "version": "3.12.3"
  }
 },
 "nbformat": 4,
 "nbformat_minor": 5
}
