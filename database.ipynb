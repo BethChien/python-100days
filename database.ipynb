{
 "cells": [
  {
   "cell_type": "markdown",
   "id": "903a6ca2",
   "metadata": {},
   "source": [
    "SQLite3\n",
    "- sqlite3.connect(filename.db)\n",
    "- conn.cursor()\n",
    "- cursor.execute(SQLStatement, object) \n",
    "\n",
    "cursor.execute(SQLStatement, object), object is optional."
   ]
  },
  {
   "cell_type": "code",
   "execution_count": 1,
   "id": "554f5e61",
   "metadata": {},
   "outputs": [],
   "source": [
    "import sqlite3\n",
    "\n",
    "conn = sqlite3.connect(\"datafile.db\")\n",
    "cursor = conn.cursor()\n",
    "cursor.execute(\"\"\"\n",
    "               create table people (id integer primary key, name text, count integer)\"\"\")\n",
    "cursor.execute(\"\"\"insert into people (name, count) values ('Sandy', 25)\"\"\")\n",
    "\n",
    "conn.commit()\n",
    "conn.close()"
   ]
  },
  {
   "cell_type": "code",
   "execution_count": 6,
   "id": "c801a73e",
   "metadata": {},
   "outputs": [],
   "source": [
    "import sqlite3\n",
    "\n",
    "conn = sqlite3.connect(\"datafile.db\")\n",
    "cursor = conn.cursor()\n",
    "cursor.execute('insert into people (name, count) values (?, ?)', ('Bob', 25))\n",
    "cursor.execute(\"\"\"insert into people (name, count) values (:username, :usercount)\"\"\", {\"username\": \"Grace\", \"usercount\": 27})\n",
    "\n",
    "conn.commit()\n",
    "conn.close()"
   ]
  },
  {
   "cell_type": "markdown",
   "id": "2fd0ce5d",
   "metadata": {},
   "source": [
    "sqlite3\n",
    "- result.fetchall(), 提取全部的東西，returns a list of tuples, each row of data in the database in stored in one tuple.\n",
    "- result.fetchmany(n), return a list of the first nth tuples\n",
    "- result.fetchone(), return a tuple of the first match for the SQL statement"
   ]
  },
  {
   "cell_type": "code",
   "execution_count": 17,
   "id": "2470adf1",
   "metadata": {},
   "outputs": [
    {
     "name": "stdout",
     "output_type": "stream",
     "text": [
      "[(1, 'Sandy', 25), (2, 'Bob', 25), (3, 'Grace', 27)]\n"
     ]
    }
   ],
   "source": [
    "import sqlite3\n",
    "\n",
    "conn = sqlite3.connect(\"datafile.db\")\n",
    "cursor = conn.cursor()\n",
    "\n",
    "result = cursor.execute(\"select * from people\")\n",
    "\n",
    "print(result.fetchall())\n",
    "# print(result.fetchone())\n",
    "# print(result.fetchmany(2))\n",
    "\n",
    "conn.commit()\n",
    "conn.close()\n"
   ]
  },
  {
   "cell_type": "markdown",
   "id": "906beb18",
   "metadata": {},
   "source": [
    "sqlite3\n",
    "- conn.commit(), save the changes to the database\n",
    "- conn.close(), close the database connection\n",
    "- conn.rollback(), 實際應用上不會用到，會用其他工具如 Alembic 去控制不同版本的資料庫"
   ]
  },
  {
   "cell_type": "markdown",
   "id": "59bba9b1",
   "metadata": {},
   "source": [
    "CRUD\n",
    "- create new data rows in the database (insert into)\n",
    "- read data rows from the database (select * from <table name> where ...)\n",
    "- update existing rows in the database\n",
    "- delete certain rows in the database"
   ]
  },
  {
   "cell_type": "code",
   "execution_count": null,
   "id": "508842c4",
   "metadata": {},
   "outputs": [
    {
     "ename": "OperationalError",
     "evalue": "database is locked",
     "output_type": "error",
     "traceback": [
      "\u001b[31m---------------------------------------------------------------------------\u001b[39m",
      "\u001b[31mOperationalError\u001b[39m                          Traceback (most recent call last)",
      "\u001b[36mCell\u001b[39m\u001b[36m \u001b[39m\u001b[32mIn[19]\u001b[39m\u001b[32m, line 6\u001b[39m\n\u001b[32m      3\u001b[39m conn = sqlite3.connect(\u001b[33m\"\u001b[39m\u001b[33mdatafile.db\u001b[39m\u001b[33m\"\u001b[39m)\n\u001b[32m      4\u001b[39m cursor = conn.cursor()\n\u001b[32m----> \u001b[39m\u001b[32m6\u001b[39m \u001b[43mcursor\u001b[49m\u001b[43m.\u001b[49m\u001b[43mexecute\u001b[49m\u001b[43m(\u001b[49m\u001b[33;43m'\u001b[39;49m\u001b[33;43mupdate people set count = :usercount where name = :username\u001b[39;49m\u001b[33;43m'\u001b[39;49m\u001b[43m,\u001b[49m\u001b[43m \u001b[49m\u001b[43m{\u001b[49m\u001b[33;43m\"\u001b[39;49m\u001b[33;43musername\u001b[39;49m\u001b[33;43m\"\u001b[39;49m\u001b[43m:\u001b[49m\u001b[43m \u001b[49m\u001b[33;43m'\u001b[39;49m\u001b[33;43mBob\u001b[39;49m\u001b[33;43m'\u001b[39;49m\u001b[43m,\u001b[49m\u001b[43m \u001b[49m\u001b[33;43m\"\u001b[39;49m\u001b[33;43musercount\u001b[39;49m\u001b[33;43m\"\u001b[39;49m\u001b[43m:\u001b[49m\u001b[43m \u001b[49m\u001b[32;43m39\u001b[39;49m\u001b[43m}\u001b[49m\u001b[43m)\u001b[49m\n\u001b[32m      9\u001b[39m result = cursor.execute(\u001b[33m\"\u001b[39m\u001b[33mselect * from people\u001b[39m\u001b[33m\"\u001b[39m)\n\u001b[32m     10\u001b[39m \u001b[38;5;28mprint\u001b[39m(result.fetchall())\n",
      "\u001b[31mOperationalError\u001b[39m: database is locked"
     ]
    }
   ],
   "source": [
    "import sqlite3\n",
    "\n",
    "conn = sqlite3.connect(\"datafile.db\")\n",
    "cursor = conn.cursor()\n",
    "\n",
    "#cursor.execute('update people set count = :usercount where name = :username', {\"username\": 'Bob', \"usercount\": 39})\n",
    "cursor.execute(\"\"\"Delete from people where name='Grace'\"\"\")\n",
    "\n",
    "result = cursor.execute(\"select * from people\")\n",
    "print(result.fetchall())\n",
    "\n",
    "conn.commit()\n",
    "conn.close()"
   ]
  },
  {
   "cell_type": "markdown",
   "id": "46f42404",
   "metadata": {},
   "source": [
    "SQL injection\n",
    "\n",
    "攻擊者藉由在輸入欄位或 API 請求中注入惡意 SQL 語句，讓系統執行攻擊者對指定資料庫進行以下操作:\n",
    "- 竊取資料\n",
    "- 繞過驗證\n",
    "- 修改或刪除資料\n",
    "- 執行管理命令\n",
    "- 控制伺服器或提升權限\n",
    "\n",
    "參數化可以避免這個攻擊\n",
    "parameterized\n",
    "\n",
    "result = cursor.execute(\"\"\"select * from people where name = :username\"\"\", {\"username\": name})\n",
    "result = cursor.execute(\"\"\"select * from people where name = ?\"\"\", (name,))"
   ]
  },
  {
   "cell_type": "markdown",
   "id": "9bee9fca",
   "metadata": {},
   "source": [
    "sql Alchemy, Django ORM\n",
    "Handle Database Easier with an ORM\n",
    "- Object Relational Mapping 物件關聯對應\n",
    "  解決物件導向程式(java, python)與關聯式資料庫(Mysql, Postgres)之間的阻抗不匹配，\n",
    "  將資料庫中的資料以物件方式表示，讓開發者能夠以物件導向的語法來操作資料庫，\n",
    "  從而提升開發效率、程式碼的可維護性與可讀性，並支援跨資料庫的可疑質性且預防 sql 注入攻擊。"
   ]
  },
  {
   "cell_type": "code",
   "execution_count": 20,
   "id": "71625f62",
   "metadata": {},
   "outputs": [
    {
     "name": "stdout",
     "output_type": "stream",
     "text": [
      "Collecting sqlalchemy\n",
      "  Downloading sqlalchemy-2.0.43-cp312-cp312-win_amd64.whl.metadata (9.8 kB)\n",
      "Collecting greenlet>=1 (from sqlalchemy)\n",
      "  Downloading greenlet-3.2.4-cp312-cp312-win_amd64.whl.metadata (4.2 kB)\n",
      "Requirement already satisfied: typing-extensions>=4.6.0 in c:\\users\\beth_chien\\appdata\\local\\anaconda3\\envs\\python312\\lib\\site-packages (from sqlalchemy) (4.14.1)\n",
      "Downloading sqlalchemy-2.0.43-cp312-cp312-win_amd64.whl (2.1 MB)\n",
      "   ---------------------------------------- 0.0/2.1 MB ? eta -:--:--\n",
      "    --------------------------------------- 0.0/2.1 MB 991.0 kB/s eta 0:00:03\n",
      "   -- ------------------------------------- 0.1/2.1 MB 1.6 MB/s eta 0:00:02\n",
      "   ------- -------------------------------- 0.4/2.1 MB 3.6 MB/s eta 0:00:01\n",
      "   ------------------ --------------------- 1.0/2.1 MB 6.3 MB/s eta 0:00:01\n",
      "   ------------------------------ --------- 1.6/2.1 MB 7.9 MB/s eta 0:00:01\n",
      "   ---------------------------------------  2.1/2.1 MB 9.6 MB/s eta 0:00:01\n",
      "   ---------------------------------------- 2.1/2.1 MB 8.0 MB/s eta 0:00:00\n",
      "Downloading greenlet-3.2.4-cp312-cp312-win_amd64.whl (299 kB)\n",
      "   ---------------------------------------- 0.0/299.9 kB ? eta -:--:--\n",
      "   --------------------------------------- 299.9/299.9 kB 18.1 MB/s eta 0:00:00\n",
      "Installing collected packages: greenlet, sqlalchemy\n",
      "Successfully installed greenlet-3.2.4 sqlalchemy-2.0.43\n",
      "Note: you may need to restart the kernel to use updated packages.\n"
     ]
    }
   ],
   "source": [
    "pip install sqlalchemy"
   ]
  },
  {
   "cell_type": "code",
   "execution_count": 25,
   "id": "f7a04399",
   "metadata": {},
   "outputs": [
    {
     "ename": "ArgumentError",
     "evalue": "expected schema argument to be a string, got <class 'sqlalchemy.engine.base.Engine'>.",
     "output_type": "error",
     "traceback": [
      "\u001b[31m---------------------------------------------------------------------------\u001b[39m",
      "\u001b[31mArgumentError\u001b[39m                             Traceback (most recent call last)",
      "\u001b[36mCell\u001b[39m\u001b[36m \u001b[39m\u001b[32mIn[25]\u001b[39m\u001b[32m, line 7\u001b[39m\n\u001b[32m      5\u001b[39m dbPath = \u001b[33m'\u001b[39m\u001b[33mdatafile.db\u001b[39m\u001b[33m'\u001b[39m\n\u001b[32m      6\u001b[39m engine = create_engine(\u001b[33m'\u001b[39m\u001b[33msqlite:///\u001b[39m\u001b[38;5;132;01m%s\u001b[39;00m\u001b[33m'\u001b[39m % dbPath)\n\u001b[32m----> \u001b[39m\u001b[32m7\u001b[39m metadata = \u001b[43mMetaData\u001b[49m\u001b[43m(\u001b[49m\u001b[43mengine\u001b[49m\u001b[43m)\u001b[49m\n\u001b[32m      8\u001b[39m people = Table(\u001b[33m'\u001b[39m\u001b[33mpeople\u001b[39m\u001b[33m'\u001b[39m, metadata, Column(\u001b[33m'\u001b[39m\u001b[33mid\u001b[39m\u001b[33m'\u001b[39m, Integer, primary_key=\u001b[38;5;28;01mTrue\u001b[39;00m), Column(\u001b[33m'\u001b[39m\u001b[33mname\u001b[39m\u001b[33m'\u001b[39m, String), Column(\u001b[33m'\u001b[39m\u001b[33mcount\u001b[39m\u001b[33m'\u001b[39m, Integer))\n\u001b[32m      9\u001b[39m Session = sessionmaker(bind=engine)\n",
      "\u001b[36mFile \u001b[39m\u001b[32mc:\\Users\\beth_chien\\AppData\\Local\\anaconda3\\envs\\python312\\Lib\\site-packages\\sqlalchemy\\sql\\schema.py:5537\u001b[39m, in \u001b[36mMetaData.__init__\u001b[39m\u001b[34m(self, schema, quote_schema, naming_convention, info)\u001b[39m\n\u001b[32m   5422\u001b[39m \u001b[38;5;250m\u001b[39m\u001b[33;03m\"\"\"Create a new MetaData object.\u001b[39;00m\n\u001b[32m   5423\u001b[39m \n\u001b[32m   5424\u001b[39m \u001b[33;03m:param schema:\u001b[39;00m\n\u001b[32m   (...)\u001b[39m\u001b[32m   5534\u001b[39m \n\u001b[32m   5535\u001b[39m \u001b[33;03m\"\"\"\u001b[39;00m\n\u001b[32m   5536\u001b[39m \u001b[38;5;28;01mif\u001b[39;00m schema \u001b[38;5;129;01mis\u001b[39;00m \u001b[38;5;129;01mnot\u001b[39;00m \u001b[38;5;28;01mNone\u001b[39;00m \u001b[38;5;129;01mand\u001b[39;00m \u001b[38;5;129;01mnot\u001b[39;00m \u001b[38;5;28misinstance\u001b[39m(schema, \u001b[38;5;28mstr\u001b[39m):\n\u001b[32m-> \u001b[39m\u001b[32m5537\u001b[39m     \u001b[38;5;28;01mraise\u001b[39;00m exc.ArgumentError(\n\u001b[32m   5538\u001b[39m         \u001b[33m\"\u001b[39m\u001b[33mexpected schema argument to be a string, \u001b[39m\u001b[33m\"\u001b[39m\n\u001b[32m   5539\u001b[39m         \u001b[33mf\u001b[39m\u001b[33m\"\u001b[39m\u001b[33mgot \u001b[39m\u001b[38;5;132;01m{\u001b[39;00m\u001b[38;5;28mtype\u001b[39m(schema)\u001b[38;5;132;01m}\u001b[39;00m\u001b[33m.\u001b[39m\u001b[33m\"\u001b[39m\n\u001b[32m   5540\u001b[39m     )\n\u001b[32m   5541\u001b[39m \u001b[38;5;28mself\u001b[39m.tables = util.FacadeDict()\n\u001b[32m   5542\u001b[39m \u001b[38;5;28mself\u001b[39m.schema = quoted_name.construct(schema, quote_schema)\n",
      "\u001b[31mArgumentError\u001b[39m: expected schema argument to be a string, got <class 'sqlalchemy.engine.base.Engine'>."
     ]
    }
   ],
   "source": [
    "import sqlite3\n",
    "from sqlalchemy import create_engine, select, MetaData, Table, Column, Integer, String \n",
    "from sqlalchemy.orm import sessionmaker\n",
    "\n",
    "dbPath = 'datafile.db'\n",
    "engine = create_engine('sqlite:///%s' % dbPath)\n",
    "metadata = MetaData(engine)\n",
    "people = Table('people', metadata, Column('id', Integer, primary_key=True), Column('name', String), Column('count', Integer))\n",
    "Session = sessionmaker(bind=engine)\n",
    "session = Session()\n",
    "metadata.create_all(engine)\n",
    "\n",
    "insert_statement = people.insert().values(name='Spencer', count=66)\n",
    "session.execute(insert_statement)\n",
    "session.commit()\n",
    "\n",
    "result = session.execute(select([people]))\n",
    "for row in result:\n",
    "    print(row)"
   ]
  }
 ],
 "metadata": {
  "kernelspec": {
   "display_name": "python312",
   "language": "python",
   "name": "python3"
  },
  "language_info": {
   "codemirror_mode": {
    "name": "ipython",
    "version": 3
   },
   "file_extension": ".py",
   "mimetype": "text/x-python",
   "name": "python",
   "nbconvert_exporter": "python",
   "pygments_lexer": "ipython3",
   "version": "3.12.3"
  }
 },
 "nbformat": 4,
 "nbformat_minor": 5
}
