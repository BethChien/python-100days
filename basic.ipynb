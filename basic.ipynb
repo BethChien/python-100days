{
 "cells": [
  {
   "cell_type": "markdown",
   "id": "28ecece6",
   "metadata": {},
   "source": [
    "練習 input 及 output 的用法"
   ]
  },
  {
   "cell_type": "code",
   "execution_count": 2,
   "id": "831708ab",
   "metadata": {},
   "outputs": [
    {
     "name": "stdout",
     "output_type": "stream",
     "text": [
      "Hellow World\n"
     ]
    }
   ],
   "source": [
    "print (\"Hellow World\")"
   ]
  },
  {
   "cell_type": "code",
   "execution_count": 9,
   "id": "3603c86e",
   "metadata": {},
   "outputs": [
    {
     "name": "stdout",
     "output_type": "stream",
     "text": [
      "Beth\n",
      "Alice 25 Taipei\n"
     ]
    }
   ],
   "source": [
    "# 單一變數\n",
    "s = \"Beth\"\n",
    "print(s)\n",
    "\n",
    "# 多個變數\n",
    "s = \"Alice\"\n",
    "age = 25\n",
    "city = 'Taipei'\n",
    "print(s,age,city)"
   ]
  },
  {
   "cell_type": "code",
   "execution_count": null,
   "id": "f03ca2bc",
   "metadata": {},
   "outputs": [
    {
     "name": "stdout",
     "output_type": "stream",
     "text": [
      "Number of boys? 10\n",
      "Number of girls? 20\n"
     ]
    }
   ],
   "source": [
    "'''\n",
    "使用多個傳入值\n",
    "'''\n",
    "x, y = input(\"Enter two values: \").split()\n",
    "print(\"Number of boys: \", x)\n",
    "print(\"Number of girls: \", y)"
   ]
  },
  {
   "cell_type": "markdown",
   "id": "0b2e2e44",
   "metadata": {},
   "source": [
    "轉換輸入值的資料型態，例如輸入的是數字，但輸出轉為字串。"
   ]
  },
  {
   "cell_type": "code",
   "execution_count": 5,
   "id": "fc235425",
   "metadata": {},
   "outputs": [
    {
     "name": "stdout",
     "output_type": "stream",
     "text": [
      "bule\n"
     ]
    }
   ],
   "source": [
    "color = input(\"what color is the bottle? \")\n",
    "print(color)"
   ]
  },
  {
   "cell_type": "code",
   "execution_count": null,
   "id": "74fa6a2d",
   "metadata": {},
   "outputs": [
    {
     "name": "stdout",
     "output_type": "stream",
     "text": [
      "44\n",
      "99.0\n"
     ]
    }
   ],
   "source": [
    "'''指定輸入值為整數'''\n",
    "n = int(input(\"How many roses? \"))\n",
    "print(n)\n",
    "\n",
    "price = float(input(\"Price of each rose?: \"))\n",
    "print(price)"
   ]
  },
  {
   "cell_type": "markdown",
   "id": "3eb92228",
   "metadata": {},
   "source": [
    "找輸入值的資料型態"
   ]
  },
  {
   "cell_type": "markdown",
   "id": "384a0b7f",
   "metadata": {},
   "source": [
    "\n",
    "| 資料型態    | 叫什麼？     | 小朋友的例子                    | 你可以想像它是...            |\n",
    "| ------- | -------- | ------------------------- | --------------------- |\n",
    "| `str`   | 字串       | \"我是熊熊\"                    | 🧸 一段話，用**引號包起來**     |\n",
    "| `int`   | 整數       | `5`, `100`, `-3`          | 🎯 一個**整數數字**         |\n",
    "| `float` | 小數       | `3.14`, `0.5`, `7.0`      | 🍩 有點小數點的數字           |\n",
    "| `list`  | 清單（串串盒）  | `[1, 2, 3]`, `[\"a\", \"b\"]` | 📦 可以裝**很多東西的盒子**，可以改 |\n",
    "| `tuple` | 固定清單     | `(1, 2, 3)`               | 🧊 裝好就不能改的盒子          |\n",
    "| `dict`  | 字典（貼標籤盒） | `{\"name\": \"熊熊\"}`          | 📚 每個東西都有**名字和內容**的貼紙 |\n"
   ]
  },
  {
   "cell_type": "code",
   "execution_count": 11,
   "id": "58896c52",
   "metadata": {},
   "outputs": [
    {
     "name": "stdout",
     "output_type": "stream",
     "text": [
      "<class 'str'>\n",
      "<class 'int'>\n",
      "<class 'float'>\n",
      "<class 'list'>\n",
      "<class 'tuple'>\n",
      "<class 'dict'>\n"
     ]
    }
   ],
   "source": [
    "name = \"Beth\"\n",
    "age = 18\n",
    "cm = 1.66\n",
    "animal = [\"dog\", \"cat\", \"fish\"]\n",
    "animala = (\"dog\", \"cat\", \"fish\")\n",
    "animalb = {\"dog\": \"black\", \"cat\": \"white\", \"fish\": \"bule\"}\n",
    "\n",
    "print(type(name))\n",
    "print(type(age))\n",
    "print(type(cm))\n",
    "print(type(animal))\n",
    "print(type(animala))\n",
    "print(type(animalb))"
   ]
  },
  {
   "cell_type": "code",
   "execution_count": 14,
   "id": "844347c9",
   "metadata": {},
   "outputs": [
    {
     "name": "stdout",
     "output_type": "stream",
     "text": [
      "Amount: $150.750\n"
     ]
    }
   ],
   "source": [
    "amount = 150.75\n",
    "print(\"Amount: ${:.3f}\".format(amount))"
   ]
  },
  {
   "cell_type": "markdown",
   "id": "7a4863b8",
   "metadata": {},
   "source": [
    "使用 separating and parameter\n",
    "end parameter with '@'\n",
    "- print() 函數預設會在輸出內容後自動換行（等同於 end='\\n'）。\n",
    "- 這裡透過指定 end='@'，改變了 print(\"Python\") 的結尾字元，把它變成 @，而不是換行。\n",
    "- 接下來 print(\"GeeksforGeeks\") 就會接續在同一行輸出。"
   ]
  },
  {
   "cell_type": "code",
   "execution_count": null,
   "id": "3cbe1b26",
   "metadata": {},
   "outputs": [
    {
     "name": "stdout",
     "output_type": "stream",
     "text": [
      "Python@GeeksforGeeks\n"
     ]
    }
   ],
   "source": [
    "#end parameter with '@'\n",
    "print(\"Python\", end='@')\n",
    "print(\"GeeksforGeeks\")"
   ]
  },
  {
   "cell_type": "code",
   "execution_count": null,
   "id": "1a25edec",
   "metadata": {},
   "outputs": [
    {
     "name": "stdout",
     "output_type": "stream",
     "text": [
      "GFG\n"
     ]
    }
   ],
   "source": [
    "#Seprating with Comma\n",
    "#print() 函式會輸出多個字串，用空白作為預設分隔符號（separator）\n",
    "print('G', 'F', 'G', sep='')"
   ]
  },
  {
   "cell_type": "markdown",
   "id": "9c5d10c1",
   "metadata": {},
   "source": [
    "練習使用 f-string"
   ]
  },
  {
   "cell_type": "code",
   "execution_count": 18,
   "id": "0eb713c2",
   "metadata": {},
   "outputs": [
    {
     "name": "stdout",
     "output_type": "stream",
     "text": [
      "Hello, My name is Beth and I'm 23 years old.\n"
     ]
    }
   ],
   "source": [
    "name = 'Beth'\n",
    "age = 23\n",
    "print(f\"Hello, My name is {name} and I'm {age} years old.\")"
   ]
  },
  {
   "cell_type": "markdown",
   "id": "5879a8cb",
   "metadata": {},
   "source": [
    "練習使用 % Operator\n",
    "%d – integer\n",
    "%f – float\n",
    "%s – string\n",
    "%x – hexadecimal\n",
    "%o – octal"
   ]
  },
  {
   "cell_type": "code",
   "execution_count": 19,
   "id": "a2486d2c",
   "metadata": {},
   "outputs": [
    {
     "name": "stdout",
     "output_type": "stream",
     "text": [
      "The sum is 11\n"
     ]
    }
   ],
   "source": [
    "num = int(input(\"Enter a value: \"))\n",
    "add = num + 5\n",
    "print(\"The sum is %d\" %add)"
   ]
  },
  {
   "cell_type": "markdown",
   "id": "a43cfc7e",
   "metadata": {},
   "source": [
    "Python 變數命名規則\n",
    "- 變數只能是字母、數字、底線(_)\n",
    "- 變數名不能以數字開頭\n",
    "- 會識別大小寫 (myVar and myvar are different)\n",
    "- 避免使用 Python 關鍵字 (if, else, elif)"
   ]
  },
  {
   "cell_type": "code",
   "execution_count": null,
   "id": "3205e3f4",
   "metadata": {},
   "outputs": [
    {
     "ename": "SyntaxError",
     "evalue": "cannot assign to expression here. Maybe you meant '==' instead of '='? (3061949043.py, line 9)",
     "output_type": "error",
     "traceback": [
      "  \u001b[36mCell\u001b[39m\u001b[36m \u001b[39m\u001b[32mIn[24]\u001b[39m\u001b[32m, line 9\u001b[39m\n\u001b[31m    \u001b[39m\u001b[31muser-name = \"Doe\"\u001b[39m\n    ^\n\u001b[31mSyntaxError\u001b[39m\u001b[31m:\u001b[39m cannot assign to expression here. Maybe you meant '==' instead of '='?\n"
     ]
    }
   ],
   "source": [
    "#valid\n",
    "age = 21\n",
    "_color = \"lilac\"\n",
    "total_score = 90\n",
    "\n",
    "#invalid\n",
    "1name = \"Error\"\n",
    "class = 10\n",
    "user-name = \"Doe\""
   ]
  },
  {
   "cell_type": "code",
   "execution_count": null,
   "id": "fc24c2cd",
   "metadata": {},
   "outputs": [],
   "source": [
    "x = 5\n",
    "y = 3.14\n",
    "z = \"Hi\"\n",
    "\n",
    "#同一個變數在執行期間可以保存不同資料類型的值\n",
    "x = 10\n",
    "x = \"Now a string\""
   ]
  },
  {
   "cell_type": "code",
   "execution_count": 28,
   "id": "03dc9bed",
   "metadata": {},
   "outputs": [
    {
     "name": "stdout",
     "output_type": "stream",
     "text": [
      "100 100 100\n",
      "1 2.5 Python\n"
     ]
    }
   ],
   "source": [
    "#python 允許一行間為多個變數賦值\n",
    "a = b = c = 100\n",
    "print(a, b, c)\n",
    "\n",
    "#可以賦予多個不同的變數值\n",
    "x, y, z = 1, 2.5, \"Python\"\n",
    "print(x, y, z)"
   ]
  },
  {
   "cell_type": "markdown",
   "id": "a02636f1",
   "metadata": {},
   "source": [
    "練習變數型別的轉換\n",
    "int() - Converts compatible values to an integer.\n",
    "float() - Transforms values into floating-point numbers.\n",
    "str() - Converts any data type into a string."
   ]
  },
  {
   "cell_type": "code",
   "execution_count": 32,
   "id": "f2902381",
   "metadata": {},
   "outputs": [
    {
     "name": "stdout",
     "output_type": "stream",
     "text": [
      "10 <class 'int'> 5.0 <class 'float'> 25 <class 'str'>\n"
     ]
    }
   ],
   "source": [
    "x, y, z = 10, 5, 25\n",
    "n = int(x)\n",
    "f = float(y)\n",
    "s = str(z)\n",
    "print(n, type(n), f, type(f), s, type(s))\n"
   ]
  },
  {
   "cell_type": "markdown",
   "id": "3bcb8ded",
   "metadata": {},
   "source": [
    "交換變數"
   ]
  },
  {
   "cell_type": "code",
   "execution_count": 33,
   "id": "50880c2e",
   "metadata": {},
   "outputs": [
    {
     "name": "stdout",
     "output_type": "stream",
     "text": [
      "10 5\n"
     ]
    }
   ],
   "source": [
    "a, b = 5, 10\n",
    "a, b = b, a\n",
    "print(a, b)"
   ]
  },
  {
   "cell_type": "markdown",
   "id": "e86ea68e",
   "metadata": {},
   "source": [
    "計算字串中的字元數"
   ]
  },
  {
   "cell_type": "code",
   "execution_count": 34,
   "id": "193eaadb",
   "metadata": {},
   "outputs": [
    {
     "name": "stdout",
     "output_type": "stream",
     "text": [
      "Length of the word:  6\n"
     ]
    }
   ],
   "source": [
    "word = \"Python\"\n",
    "length = len(word)\n",
    "print(\"Length of the word: \", length)"
   ]
  },
  {
   "cell_type": "markdown",
   "id": "ef5aeeac",
   "metadata": {},
   "source": [
    "運算符使用 oprator"
   ]
  },
  {
   "cell_type": "code",
   "execution_count": 35,
   "id": "4bb8cee3",
   "metadata": {},
   "outputs": [
    {
     "name": "stdout",
     "output_type": "stream",
     "text": [
      "13\n",
      "5\n",
      "36\n",
      "1\n"
     ]
    }
   ],
   "source": [
    "a = 9\n",
    "b = 4\n",
    "add = a + b\n",
    "sub = a - b\n",
    "mul = a * b\n",
    "mod = a % b\n",
    "print(add)\n",
    "print(sub)\n",
    "print(mul)\n",
    "print(mod)"
   ]
  },
  {
   "cell_type": "markdown",
   "id": "4cc929b8",
   "metadata": {},
   "source": [
    "Comparison Operators 比較運算子"
   ]
  },
  {
   "cell_type": "code",
   "execution_count": 36,
   "id": "dd474e1b",
   "metadata": {},
   "outputs": [
    {
     "name": "stdout",
     "output_type": "stream",
     "text": [
      "False\n",
      "True\n",
      "False\n",
      "True\n",
      "False\n",
      "True\n"
     ]
    }
   ],
   "source": [
    "a = 10\n",
    "b = 20\n",
    "\n",
    "print(a == b)\n",
    "print(a != b)\n",
    "print(a > b)\n",
    "print(a < b)\n",
    "print(a >= b)\n",
    "print(a <= b)"
   ]
  },
  {
   "cell_type": "markdown",
   "id": "4fe9aa1b",
   "metadata": {},
   "source": [
    "邏輯運算子"
   ]
  },
  {
   "cell_type": "code",
   "execution_count": 37,
   "id": "0103df43",
   "metadata": {},
   "outputs": [
    {
     "name": "stdout",
     "output_type": "stream",
     "text": [
      "False\n",
      "True\n",
      "False\n"
     ]
    }
   ],
   "source": [
    "a = True\n",
    "b = False\n",
    "print(a and b)\n",
    "print(a or b)\n",
    "print(not a)"
   ]
  },
  {
   "cell_type": "markdown",
   "id": "51635513",
   "metadata": {},
   "source": [
    "位元運算"
   ]
  },
  {
   "cell_type": "code",
   "execution_count": null,
   "id": "6d045a01",
   "metadata": {},
   "outputs": [
    {
     "name": "stdout",
     "output_type": "stream",
     "text": [
      "0\n",
      "14\n",
      "-11\n",
      "14\n",
      "2\n",
      "40\n"
     ]
    }
   ],
   "source": [
    "a = 10\n",
    "b = 4\n",
    "print(a & b) #AND\n",
    "print(a | b) #OR\n",
    "print(~a) #not a,位元反轉, 00001010 --> 11110101 \n",
    "print(a ^ b) #XOR 相異為1\n",
    "print(a >> 2) #右移兩位\n",
    "print(a << 2) #左移兩位"
   ]
  },
  {
   "cell_type": "markdown",
   "id": "ce8e552a",
   "metadata": {},
   "source": [
    "賦值運算符"
   ]
  },
  {
   "cell_type": "code",
   "execution_count": null,
   "id": "b0095850",
   "metadata": {},
   "outputs": [
    {
     "name": "stdout",
     "output_type": "stream",
     "text": [
      "10\n",
      "20\n",
      "10\n",
      "100\n",
      "102400\n"
     ]
    }
   ],
   "source": [
    "a = 10\n",
    "b = a\n",
    "print(b)\n",
    "b += a #b = b + a\n",
    "print(b)\n",
    "b -= a #b = b - a\n",
    "print(b)\n",
    "b *= a #b = b * a\n",
    "print(b)\n",
    "b <<= a #b = b << a, 100 << 10 = 100 * 2^10 = 100 * 1024 = 102400\n",
    "print(b)"
   ]
  },
  {
   "cell_type": "markdown",
   "id": "e68c0294",
   "metadata": {},
   "source": [
    "if-else"
   ]
  },
  {
   "cell_type": "code",
   "execution_count": null,
   "id": "ad0d58f9",
   "metadata": {},
   "outputs": [
    {
     "name": "stdout",
     "output_type": "stream",
     "text": [
      "i is smaller than 15\n",
      "i'm in else Block\n",
      "i'm not in if and not in else Block\n"
     ]
    }
   ],
   "source": [
    "i = 20\n",
    "if (i < 15):\n",
    "    print(\"i is smaller than 15\")\n",
    "    print(\"i'm in else Block\")\n",
    "else:\n",
    "    print(\"i is greater than 15\")\n",
    "    print(\"i'm in else Block\")\n",
    "print(\"i'm not in if and not in else Block\")"
   ]
  },
  {
   "cell_type": "markdown",
   "id": "3d76bf2a",
   "metadata": {},
   "source": [
    "if-elif-else"
   ]
  },
  {
   "cell_type": "code",
   "execution_count": 47,
   "id": "aca601a3",
   "metadata": {},
   "outputs": [
    {
     "name": "stdout",
     "output_type": "stream",
     "text": [
      "i is 20\n"
     ]
    }
   ],
   "source": [
    "i = 20\n",
    "if (i == 10):\n",
    "    print(\"i is 10\")\n",
    "elif (i == 15):\n",
    "    print(\"i is 15\")\n",
    "elif (i == 20):\n",
    "    print(\"i is 20\")\n",
    "else:\n",
    "    print(\"i is not present\")"
   ]
  },
  {
   "cell_type": "markdown",
   "id": "a5fb9934",
   "metadata": {},
   "source": [
    "迴圈"
   ]
  },
  {
   "cell_type": "code",
   "execution_count": 53,
   "id": "6edc0aed",
   "metadata": {},
   "outputs": [
    {
     "name": "stdout",
     "output_type": "stream",
     "text": [
      "0\n",
      "2\n",
      "4\n",
      "6\n",
      "8\n"
     ]
    }
   ],
   "source": [
    "#range(起始值, 終止值, 位移數)\n",
    "for i in range(0, 10, 2):\n",
    "    print(i)"
   ]
  },
  {
   "cell_type": "markdown",
   "id": "3dad3892",
   "metadata": {},
   "source": [
    "while loop"
   ]
  },
  {
   "cell_type": "code",
   "execution_count": 54,
   "id": "141cc80b",
   "metadata": {},
   "outputs": [
    {
     "name": "stdout",
     "output_type": "stream",
     "text": [
      "Hello Geek\n",
      "Hello Geek\n",
      "Hello Geek\n"
     ]
    }
   ],
   "source": [
    "count = 0\n",
    "while (count < 3):\n",
    "    count = count + 1\n",
    "    print(\"Hello Geek\")"
   ]
  },
  {
   "cell_type": "markdown",
   "id": "a8a1461f",
   "metadata": {},
   "source": [
    "python funtion\n",
    "兩種主要類型: 1.Built-in 2.User-defined\n",
    "\n",
    "[keyword/function name/parameter]\n",
    "def function_name(parameters):\n",
    "\n",
    "#statment (body of statemet)\n",
    "\n",
    "[ function return]\n",
    "return expression"
   ]
  },
  {
   "cell_type": "code",
   "execution_count": 55,
   "id": "11814dfc",
   "metadata": {},
   "outputs": [
    {
     "name": "stdout",
     "output_type": "stream",
     "text": [
      "even\n",
      "odd\n"
     ]
    }
   ],
   "source": [
    "def evenOdd(x):\n",
    "    if x % 2 == 0:\n",
    "        print(\"even\")\n",
    "    else:\n",
    "        print(\"odd\")\n",
    "\n",
    "evenOdd(2)\n",
    "evenOdd(3)"
   ]
  },
  {
   "cell_type": "markdown",
   "id": "ac07723b",
   "metadata": {},
   "source": [
    "遞迴\n"
   ]
  },
  {
   "cell_type": "code",
   "execution_count": null,
   "id": "4dc1f5e1",
   "metadata": {},
   "outputs": [
    {
     "name": "stdout",
     "output_type": "stream",
     "text": [
      "120\n"
     ]
    }
   ],
   "source": [
    "#5*4*3*2*1\n",
    "def factorial(n):\n",
    "    if n == 0:\n",
    "        return 1\n",
    "    else:\n",
    "        return n * factorial(n-1)\n",
    "\n",
    "print(factorial(5))"
   ]
  },
  {
   "cell_type": "markdown",
   "id": "5b44e821",
   "metadata": {},
   "source": [
    "尾端遞迴"
   ]
  },
  {
   "cell_type": "code",
   "execution_count": 59,
   "id": "780fbefd",
   "metadata": {},
   "outputs": [
    {
     "name": "stdout",
     "output_type": "stream",
     "text": [
      "120\n",
      "120\n"
     ]
    }
   ],
   "source": [
    "def tail_fact(n, acc=1):\n",
    "    # Base case\n",
    "    if n == 0:\n",
    "        return acc\n",
    "    # Tail recursive call with an accumulator\n",
    "    else:\n",
    "        return tail_fact(n-1, acc * n)\n",
    "\n",
    "def nontail_fact(n):\n",
    "    # Base case\n",
    "    if n == 1:\n",
    "        return 1\n",
    "    # Non-tail recursive call because the multiplication happens after the call\n",
    "    else:\n",
    "        return n * nontail_fact(n-1)\n",
    "\n",
    "# Example usage\n",
    "print(tail_fact(5))  \n",
    "print(nontail_fact(5))"
   ]
  },
  {
   "cell_type": "markdown",
   "id": "84fd11bf",
   "metadata": {},
   "source": [
    "insert\n",
    "append()\n",
    "insert()\n",
    "extend()"
   ]
  },
  {
   "cell_type": "code",
   "execution_count": 62,
   "id": "2e031103",
   "metadata": {},
   "outputs": [
    {
     "name": "stdout",
     "output_type": "stream",
     "text": [
      "After append(10): [10]\n",
      "After insert(0, 5): [5, 10]\n",
      "After extend([15, 20, 25]): [5, 10, 15, 20, 25]\n"
     ]
    }
   ],
   "source": [
    "a = []\n",
    "a.append(10)\n",
    "print(\"After append(10):\", a)\n",
    "\n",
    "a.insert(0, 5)\n",
    "print(\"After insert(0, 5):\", a)\n",
    "\n",
    "a.extend([15, 20, 25])\n",
    "print(\"After extend([15, 20, 25]):\", a)"
   ]
  },
  {
   "cell_type": "code",
   "execution_count": 6,
   "id": "3071eff7",
   "metadata": {},
   "outputs": [
    {
     "name": "stdout",
     "output_type": "stream",
     "text": [
      "歡迎參加猜數字遊戲，請在1-100的數字之間猜一個數，直到猜中正確數字。\n",
      "50, 太大，請再試一次\n",
      "25, 太大，請再試一次\n",
      "20, 太大，請再試一次\n",
      "10, 太小，請再試一次\n",
      "25, 太大，請再試一次\n",
      "15, 太小，請再試一次\n",
      "16, 太小，請再試一次\n",
      "17, 太小，請再試一次\n",
      "18, 賓果，正確答案\n"
     ]
    }
   ],
   "source": [
    "#猜數字1-100\n",
    "#遊戲介紹詞\n",
    "#隨機選數字 1-100 作為答案\n",
    "#輸入數字\n",
    "#當數字小於答案時回答太低\n",
    "#輸入數字\n",
    "#當數字大於答案時回答太高\n",
    "#輸入數字\n",
    "#當數字==答案時回答賓果答對了\n",
    "\n",
    "import random\n",
    "print(\"歡迎參加猜數字遊戲，請在1-100的數字之間猜一個數，直到猜中正確數字。\")\n",
    "\n",
    "ans = random.randint(0, 100)\n",
    "for attempt in range(0, 100):\n",
    "    guess = int(input(f\"第 {attempt} 次猜，請輸入一個數字（1~100）: \"))\n",
    "    if guess == ans:\n",
    "        print(f\"{guess}, 賓果，正確答案\")\n",
    "        break\n",
    "    elif guess ==\"\":\n",
    "        print(f\"{guess}，您輸入的是空值，請輸入一個數字（1~100）\")\n",
    "    elif guess > ans:\n",
    "        print(f\"{guess}, 太大，請再試一次\")\n",
    "    else:\n",
    "        print(f\"{guess}, 太小，請再試一次\")     "
   ]
  },
  {
   "cell_type": "markdown",
   "id": "b470a228",
   "metadata": {},
   "source": [
    "猜數字\n",
    "遊戲介紹詞\n",
    "自己輸入最大及最小的數字\n",
    "有7次的機會可以猜\n",
    "\n",
    "當數字小於答案時回答太低\n",
    "當數字大於答案時回答太高\n",
    "當數字==答案時回答賓果答對了\n",
    "答對後終止"
   ]
  },
  {
   "cell_type": "code",
   "execution_count": 8,
   "id": "c948fb4f",
   "metadata": {},
   "outputs": [
    {
     "name": "stdout",
     "output_type": "stream",
     "text": [
      "Hi! Welcome to the Number Guessing Game.\n",
      "You have 7 chances to guess the number. Let's start!\n",
      "\n",
      "You have 7 chances to guess the number between 0 and 100. Let's start!\n"
     ]
    },
    {
     "ename": "ValueError",
     "evalue": "invalid literal for int() with base 10: ''",
     "output_type": "error",
     "traceback": [
      "\u001b[31m---------------------------------------------------------------------------\u001b[39m",
      "\u001b[31mValueError\u001b[39m                                Traceback (most recent call last)",
      "\u001b[36mCell\u001b[39m\u001b[36m \u001b[39m\u001b[32mIn[8]\u001b[39m\u001b[32m, line 16\u001b[39m\n\u001b[32m     14\u001b[39m \u001b[38;5;28;01mwhile\u001b[39;00m gc < ch:\n\u001b[32m     15\u001b[39m     gc += \u001b[32m1\u001b[39m\n\u001b[32m---> \u001b[39m\u001b[32m16\u001b[39m     guess = \u001b[38;5;28;43mint\u001b[39;49m\u001b[43m(\u001b[49m\u001b[38;5;28;43minput\u001b[39;49m\u001b[43m(\u001b[49m\u001b[33;43m'\u001b[39;49m\u001b[33;43mEnter your guess: \u001b[39;49m\u001b[33;43m'\u001b[39;49m\u001b[43m)\u001b[49m\u001b[43m)\u001b[49m\n\u001b[32m     18\u001b[39m     \u001b[38;5;28;01mif\u001b[39;00m guess == num:\n\u001b[32m     19\u001b[39m         \u001b[38;5;28mprint\u001b[39m(\u001b[33mf\u001b[39m\u001b[33m'\u001b[39m\u001b[33mCorrect! The number is \u001b[39m\u001b[38;5;132;01m{\u001b[39;00mnum\u001b[38;5;132;01m}\u001b[39;00m\u001b[33m. You guessed it in \u001b[39m\u001b[38;5;132;01m{\u001b[39;00mgc\u001b[38;5;132;01m}\u001b[39;00m\u001b[33m attempts.\u001b[39m\u001b[33m'\u001b[39m)\n",
      "\u001b[31mValueError\u001b[39m: invalid literal for int() with base 10: ''"
     ]
    }
   ],
   "source": [
    "import random\n",
    "\n",
    "print(\"Hi! Welcome to the Number Guessing Game.\\nYou have 7 chances to guess the number. Let's start!\")\n",
    "\n",
    "low = int(input(\"Enter the Lower Bound: \"))\n",
    "high = int(input(\"Enter the Upper Bound: \"))\n",
    "\n",
    "print(f\"\\nYou have 7 chances to guess the number between {low} and {high}. Let's start!\")\n",
    "\n",
    "num = random.randint(low, high) \n",
    "ch = 7                        # Total allowed chances\n",
    "gc = 0                        # Guess counter\n",
    "\n",
    "while gc < ch:\n",
    "    gc += 1\n",
    "    guess = int(input('Enter your guess: '))\n",
    "\n",
    "    if guess == num:\n",
    "        print(f'Correct! The number is {num}. You guessed it in {gc} attempts.')\n",
    "        break\n",
    "\n",
    "    elif gc >= ch and guess != num:\n",
    "        print(f'orry! The number was {num}. Better luck next time.')\n",
    "\n",
    "    elif guess > num:\n",
    "        print('Too high! Try a lower number.')\n",
    "\n",
    "    elif guess < num:\n",
    "        print('Too low! Try a higher number.')"
   ]
  }
 ],
 "metadata": {
  "kernelspec": {
   "display_name": "python312",
   "language": "python",
   "name": "python3"
  },
  "language_info": {
   "codemirror_mode": {
    "name": "ipython",
    "version": 3
   },
   "file_extension": ".py",
   "mimetype": "text/x-python",
   "name": "python",
   "nbconvert_exporter": "python",
   "pygments_lexer": "ipython3",
   "version": "3.12.3"
  }
 },
 "nbformat": 4,
 "nbformat_minor": 5
}
