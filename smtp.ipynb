{
 "cells": [
  {
   "cell_type": "markdown",
   "id": "f69826d0",
   "metadata": {},
   "source": [
    "python smtplib 練習與 gmail smtp server 溝通"
   ]
  },
  {
   "cell_type": "code",
   "execution_count": null,
   "id": "1fbd516b",
   "metadata": {},
   "outputs": [
    {
     "name": "stdout",
     "output_type": "stream",
     "text": [
      "(250, b'smtp.gmail.com at your service, [61.219.99.27]\\nSIZE 35882577\\n8BITMIME\\nSTARTTLS\\nENHANCEDSTATUSCODES\\nPIPELINING\\nCHUNKING\\nSMTPUTF8')\n"
     ]
    }
   ],
   "source": [
    "import smtplib\n",
    "smtp_obj = smtplib.SMTP(\"smtp.gmail.com\",587)\n",
    "#ehlo() extended hello 跟 smtp server say hello 的意思\n",
    "print(smtp_obj.ehlo())\n",
    "#starttls() put the smtp connection in TLS\n",
    "\n",
    "#login(username,password) log in on an SMTP server that requires authentication\n"
   ]
  },
  {
   "cell_type": "code",
   "execution_count": 4,
   "id": "c2ad6599",
   "metadata": {},
   "outputs": [
    {
     "data": {
      "text/plain": [
       "(235, b'2.7.0 Accepted')"
      ]
     },
     "execution_count": 4,
     "metadata": {},
     "output_type": "execute_result"
    }
   ],
   "source": [
    "import smtplib\n",
    "import getpass\n",
    "smtp_obj = smtplib.SMTP(\"smtp.gmail.com\",587)\n",
    "smtp_obj.ehlo()\n",
    "#starttls() put the smtp connection in TLS\n",
    "smtp_obj.starttls()\n",
    "#login(username,password) log in on an SMTP server that requires authentication\n",
    "\n",
    "email = input(\"Enter your Email: \")\n",
    "password = getpass.getpass(\"Enter your Password: \")\n",
    "smtp_obj.login(email, password)\n",
    "#juyrnucmujcldewh"
   ]
  },
  {
   "cell_type": "markdown",
   "id": "95e5e363",
   "metadata": {},
   "source": [
    "sending email practice\n",
    "smtp_obj.sendmail(from_address, to_address, msg) to send emails\n",
    "three inputs\n",
    "1. sender email address\n",
    "2. receiver email address\n",
    "3. the massage we will send"
   ]
  },
  {
   "cell_type": "code",
   "execution_count": null,
   "id": "c0dd0cf7",
   "metadata": {},
   "outputs": [],
   "source": []
  }
 ],
 "metadata": {
  "kernelspec": {
   "display_name": "python312",
   "language": "python",
   "name": "python3"
  },
  "language_info": {
   "codemirror_mode": {
    "name": "ipython",
    "version": 3
   },
   "file_extension": ".py",
   "mimetype": "text/x-python",
   "name": "python",
   "nbconvert_exporter": "python",
   "pygments_lexer": "ipython3",
   "version": "3.12.3"
  }
 },
 "nbformat": 4,
 "nbformat_minor": 5
}
