{
 "cells": [
  {
   "cell_type": "markdown",
   "id": "3b48211a",
   "metadata": {},
   "source": [
    "計算ＢＭＩ\n",
    "ＢＭＩ公式 ＝ 體重/ (身高* 身高)\n",
    "體重: 使用公斤(kg) 作為單位\n",
    "身高: 使用公尺(m) 作為單位"
   ]
  },
  {
   "cell_type": "code",
   "execution_count": 5,
   "id": "061154a6",
   "metadata": {},
   "outputs": [
    {
     "name": "stdout",
     "output_type": "stream",
     "text": [
      "您的 BMI 是： 21.9\n"
     ]
    }
   ],
   "source": [
    "hight = float(input(\"請輸入您的身高-公分： \"))\n",
    "weight = float(input(\"請輸入您的體重ㄦ-公斤： \"))\n",
    "\n",
    "hightend = hight/100\n",
    "\n",
    "bmi = weight/ (hightend ** 2)\n",
    "print(f\"您的 BMI 是： {bmi:.1f}\")\n"
   ]
  },
  {
   "cell_type": "markdown",
   "id": "5bbe5408",
   "metadata": {},
   "source": [
    "製作大型串列資料"
   ]
  },
  {
   "cell_type": "code",
   "execution_count": null,
   "id": "e2f901c9",
   "metadata": {},
   "outputs": [
    {
     "name": "stdout",
     "output_type": "stream",
     "text": [
      "[['Taiwan', 'Japan', 'Korea'], ['chicago', 'New York', 'Los Angeles'], ['Paris', 'London', 'Zurich']]\n"
     ]
    }
   ],
   "source": [
    "asia = [\"Taiwan\", \"Japan\", \"Korea\"]\n",
    "usa = [\"chicago\", \"New York\", \"Los Angeles\"]\n",
    "europe = [\"Paris\", \"London\", \"Zurich\"]\n",
    "\n",
    "world = [asia, usa, europe]\n",
    "type(world)\n",
    "print(world)"
   ]
  },
  {
   "cell_type": "code",
   "execution_count": null,
   "id": "44cdb508",
   "metadata": {},
   "outputs": [],
   "source": []
  },
  {
   "cell_type": "markdown",
   "id": "5ed91507",
   "metadata": {},
   "source": [
    "建立使用者帳號管理系統\n",
    "1. 建立帳號\n",
    "2. 驗證，輸入正確輸出“歡迎登入”，錯誤輸出“帳號錯誤”"
   ]
  },
  {
   "cell_type": "code",
   "execution_count": 19,
   "id": "59f88f73",
   "metadata": {},
   "outputs": [
    {
     "name": "stdout",
     "output_type": "stream",
     "text": [
      "帳號系統\n",
      "歡迎登入\n",
      "['crist']\n"
     ]
    }
   ],
   "source": [
    "accounts = []\n",
    "account = input(\"請輸入帳號： \")\n",
    "accounts.append(account)\n",
    "\n",
    "print(\"帳號系統\")\n",
    "ac = input(\"請輸入帳號： \")\n",
    "if ac in accounts:\n",
    "    print(\"歡迎登入\")\n",
    "else:\n",
    "    print(\"帳號錯誤\")\n",
    "    \n",
    "print(accounts)\n",
    "\n"
   ]
  }
 ],
 "metadata": {
  "kernelspec": {
   "display_name": "Python 3",
   "language": "python",
   "name": "python3"
  },
  "language_info": {
   "codemirror_mode": {
    "name": "ipython",
    "version": 3
   },
   "file_extension": ".py",
   "mimetype": "text/x-python",
   "name": "python",
   "nbconvert_exporter": "python",
   "pygments_lexer": "ipython3",
   "version": "3.13.6"
  }
 },
 "nbformat": 4,
 "nbformat_minor": 5
}
