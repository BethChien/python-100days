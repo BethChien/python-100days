製作通訊錄練習
- postgre
- python flask api

Goal: 練習資料庫的新增修改刪除
