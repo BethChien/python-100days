{
 "cells": [
  {
   "cell_type": "markdown",
   "id": "f69826d0",
   "metadata": {},
   "source": [
    "python smtplib 練習與 gmail smtp server 溝通"
   ]
  },
  {
   "cell_type": "code",
   "execution_count": null,
   "id": "1fbd516b",
   "metadata": {},
   "outputs": [
    {
     "name": "stdout",
     "output_type": "stream",
     "text": [
      "(250, b'smtp.gmail.com at your service, [61.219.99.27]\\nSIZE 35882577\\n8BITMIME\\nSTARTTLS\\nENHANCEDSTATUSCODES\\nPIPELINING\\nCHUNKING\\nSMTPUTF8')\n"
     ]
    }
   ],
   "source": [
    "import smtplib\n",
    "smtp_obj = smtplib.SMTP(\"smtp.gmail.com\",587)\n",
    "#ehlo() extended hello 跟 smtp server say hello 的意思\n",
    "print(smtp_obj.ehlo())\n",
    "#starttls() put the smtp connection in TLS\n",
    "\n",
    "#login(username,password) log in on an SMTP server that requires authentication\n"
   ]
  },
  {
   "cell_type": "code",
   "execution_count": 4,
   "id": "c2ad6599",
   "metadata": {},
   "outputs": [
    {
     "data": {
      "text/plain": [
       "(235, b'2.7.0 Accepted')"
      ]
     },
     "execution_count": 4,
     "metadata": {},
     "output_type": "execute_result"
    }
   ],
   "source": [
    "import smtplib\n",
    "import getpass\n",
    "smtp_obj = smtplib.SMTP(\"smtp.gmail.com\",587)\n",
    "smtp_obj.ehlo()\n",
    "#starttls() put the smtp connection in TLS\n",
    "smtp_obj.starttls()\n",
    "#login(username,password) log in on an SMTP server that requires authentication\n",
    "\n",
    "email = input(\"Enter your Email: \")\n",
    "password = getpass.getpass(\"Enter your Password: \")\n",
    "smtp_obj.login(email, password)\n",
    "#juyrnucmujcldewh"
   ]
  },
  {
   "cell_type": "markdown",
   "id": "95e5e363",
   "metadata": {},
   "source": [
    "sending email practice\n",
    "smtp_obj.sendmail(from_address, to_address, msg) to send emails\n",
    "three inputs\n",
    "1. sender email address\n",
    "2. receiver email address\n",
    "3. the massage we will send"
   ]
  },
  {
   "cell_type": "code",
   "execution_count": 2,
   "id": "c0dd0cf7",
   "metadata": {},
   "outputs": [
    {
     "name": "stdout",
     "output_type": "stream",
     "text": [
      "{}\n"
     ]
    },
    {
     "data": {
      "text/plain": [
       "(221,\n",
       " b'2.0.0 closing connection d9443c01a7336-241d1ef66fdsm260909735ad.38 - gsmtp')"
      ]
     },
     "execution_count": 2,
     "metadata": {},
     "output_type": "execute_result"
    }
   ],
   "source": [
    "import smtplib\n",
    "import getpass\n",
    "smtp_obj = smtplib.SMTP(\"smtp.gmail.com\",587)\n",
    "smtp_obj.ehlo()\n",
    "#starttls() put the smtp connection in TLS\n",
    "smtp_obj.starttls()\n",
    "#login(username,password) log in on an SMTP server that requires authentication\n",
    "\n",
    "email = input(\"Enter your Email: \")\n",
    "password = getpass.getpass(\"Enter your Password: \")\n",
    "smtp_obj.login(email, password)\n",
    "#juyrnucmujcldewh\n",
    "\n",
    "from_address = email \n",
    "to_address = email\n",
    "subject = input(\"Enter subject: \")\n",
    "message = input(\"Enter message: \")\n",
    "full_message = \"Subject: \" + subject + \"\\n\" + message\n",
    "\n",
    "print(smtp_obj.sendmail(from_address, to_address, full_message))\n",
    "smtp_obj.quit()"
   ]
  },
  {
   "cell_type": "markdown",
   "id": "b23e75c0",
   "metadata": {},
   "source": [
    "Receiving Emails\n",
    "IMAP, Internet Mail Access Protocol, client-side library\n",
    "允許用戶端應用程式利用伺服器端的email訊息\n",
    "\n",
    "import imaplib\n",
    "M = imaplib.IMAP4_SSL(\"imap.gmail.com\")\n",
    "\n",
    "- M.login(email, password)\n",
    "- M.list()\n",
    "- M.select(str)\n",
    "- M.search()"
   ]
  },
  {
   "cell_type": "code",
   "execution_count": null,
   "id": "267b8e6f",
   "metadata": {},
   "outputs": [],
   "source": [
    "import imaplib\n",
    "import getpass\n",
    "\n",
    "M = imaplib.IMAP4_SSL(\"imap.gmail.com\")\n",
    "\n",
    "email = input(\"Enter your Email: \")\n",
    "password = getpass.getpass(\"Enter your Password: \")\n",
    "\n",
    "print(M.login(email, password))\n",
    "print(M.list())\n",
    "#juyrnucmujcldewh\n"
   ]
  }
 ],
 "metadata": {
  "kernelspec": {
   "display_name": "python312",
   "language": "python",
   "name": "python3"
  },
  "language_info": {
   "codemirror_mode": {
    "name": "ipython",
    "version": 3
   },
   "file_extension": ".py",
   "mimetype": "text/x-python",
   "name": "python",
   "nbconvert_exporter": "python",
   "pygments_lexer": "ipython3",
   "version": "3.12.3"
  }
 },
 "nbformat": 4,
 "nbformat_minor": 5
}
