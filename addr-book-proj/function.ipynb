{
 "cells": [
  {
   "cell_type": "code",
   "execution_count": null,
   "id": "29dfc6de",
   "metadata": {},
   "outputs": [
    {
     "name": "stdout",
     "output_type": "stream",
     "text": [
      "我的第一個函數練習\n",
      "今天很棒居然有做練習\n",
      "太好了\n"
     ]
    }
   ],
   "source": [
    "\"\"\"\n",
    "變成函數可以減少重複性出現的東西，當要使用時直接呼叫這個函數\n",
    "沒有傳入參數也沒有回傳值的函數\n",
    "\"\"\"\n",
    "\n",
    "def greeting():\n",
    "    print(\"我的第一個函數練習\")\n",
    "    print(\"今天很棒居然有做練習\")\n",
    "    print(\"太好了\")\n",
    "\n",
    "greeting()"
   ]
  },
  {
   "cell_type": "code",
   "execution_count": 10,
   "id": "68055571",
   "metadata": {},
   "outputs": [
    {
     "name": "stdout",
     "output_type": "stream",
     "text": [
      "請問你叫什麼名字？\n",
      "我的名字是 Beth\n"
     ]
    }
   ],
   "source": [
    "def greeting(name):\n",
    "    print(\"請問你叫什麼名字？\")\n",
    "    print(\"我的名字是\", name)\n",
    "\n",
    "greeting('Beth')"
   ]
  }
 ],
 "metadata": {
  "kernelspec": {
   "display_name": "Python 3",
   "language": "python",
   "name": "python3"
  },
  "language_info": {
   "codemirror_mode": {
    "name": "ipython",
    "version": 3
   },
   "file_extension": ".py",
   "mimetype": "text/x-python",
   "name": "python",
   "nbconvert_exporter": "python",
   "pygments_lexer": "ipython3",
   "version": "3.13.6"
  }
 },
 "nbformat": 4,
 "nbformat_minor": 5
}
