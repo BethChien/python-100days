{
 "cells": [
  {
   "cell_type": "markdown",
   "id": "63933888",
   "metadata": {},
   "source": [
    "專案: 製作通訊錄\n",
    "目標: 以 Python 練習與 Postgres 資料庫互動，CRUD。\n",
    "\n",
    "工具: \n",
    "- Postgres and Pgadmin on docker\n",
    "\n",
    "思考點: \n",
    "- 原生 SQL（psycopg2） 還是 ORM (SQLAlchemy)? psycopg2 先練習寫 SQL 語句。\n",
    "\n",
    "前端: 簡易通訊錄表格\n",
    "Flask RestAPI: 先練習以 HTTP 方式操作通訊錄\n",
    "後端: Postgres database\n",
    "\n",
    "proj-address-book/\n",
    "  - requirements.txt\n",
    "    Flask==3.0.3\n",
    "    psycopg2-binary==2.9.9\n",
    "    flask-cors==4.0.0\n",
    "  - app.py\n",
    "  - front/index.html\n",
    "    "
   ]
  },
  {
   "cell_type": "markdown",
   "id": "9d576845",
   "metadata": {},
   "source": [
    "CRUD: create, retrive, update, delete (新增、讀取、更新、刪除)\n",
    "REST: POST, GET, PUT, DELETE (建立新物件、讀取物件資料、更新物件的資料、刪除資料)"
   ]
  },
  {
   "cell_type": "code",
   "execution_count": null,
   "id": "75b118d6",
   "metadata": {},
   "outputs": [],
   "source": [
    "pyenv local 3.10.7\n",
    "pyenv exec python -m venv .venv\n",
    "source .venv/bin/activate"
   ]
  },
  {
   "cell_type": "code",
   "execution_count": null,
   "id": "1af8b0c0",
   "metadata": {},
   "outputs": [],
   "source": [
    "pip install -r requirements.txt"
   ]
  },
  {
   "cell_type": "code",
   "execution_count": null,
   "id": "102a7e85",
   "metadata": {},
   "outputs": [],
   "source": [
    "vim addr-book-app.py\n",
    "\n",
    "#從 flask 函式庫或稱模組，匯入 Flask, request, jsonify 功能\n",
    "#from psycopg2.extras import RealDictCursor 是 postgreSQL 連線，在查詢結果以 dict 而不是 tuple 的形式回傳，增加可讀性，也方便轉成 JSON 給 API 回傳。\n",
    "from flask import Flask, request, jsonify\n",
    "from flask_cors import CORS\n",
    "import psycopg2-binary\n",
    "from psycopg2.extras import RealDictCursor\n",
    "import os\n",
    "\n",
    "\n",
    "#建立 Flask 應用實例，後續所有的路由、設定都會掛在這個物件上\n",
    "app = Flask(__name__)\n",
    "\n",
    "#開啟 CORS \n",
    "#瀏覽器為了安全，預設禁止前端 JS 存取跟當前網頁不同來源的資源，避免惡意網站亂用你的登入身分取資料。\n",
    "#測試可以 CORS(app) ，允許所有來源\n",
    "CORS(app, origins=[\"https://localhost:8000\", \"http://127.0.0.1:5500\"])\n",
    "\n",
    "#DB 連線設定\n",
    "#去系統環境變數找 DB_HOST 的值\n",
    "DB_HOST = os.getenv(\"DB_HOST\", \"localhost\")\n",
    "DB_PORT = os.getenv(\"DB_PORT\", \"5432\")\n",
    "DB_NAME = os.getenv(\"DB_NAME\", \"postgres\")\n",
    "DB_USER = os.getenv(\"DB_USER\", \"postgres\")\n",
    "DB_PASS = os.getenv(\"DB_PASS\", \"postgres\")\n",
    "\n",
    "#定義路由\n",
    "@app.route(\"/\", method=['GET', 'POST'])\n",
    "def home():\n",
    "    return \"Hello World\"\n",
    "\n",
    "#如果 if __name__ == \"__main__\" 成立，執行 app.run(debug=True)\n",
    "#debug=True 改了程式檔會重啟伺服器，debug mode 除錯模式，發生錯誤時瀏覽器會顯示詳細錯誤\n",
    "if __name__ == \"__main__\"\n",
    "    app.run(debug=True)\n"
   ]
  }
 ],
 "metadata": {
  "kernelspec": {
   "display_name": "python312",
   "language": "python",
   "name": "python3"
  },
  "language_info": {
   "name": "python",
   "version": "3.12.3"
  }
 },
 "nbformat": 4,
 "nbformat_minor": 5
}
